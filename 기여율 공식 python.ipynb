{
 "cells": [
  {
   "cell_type": "markdown",
   "id": "8e92fcce-552a-4584-9d38-d0735533a0b8",
   "metadata": {},
   "source": [
    "## 기여율 계산 공식 변경"
   ]
  },
  {
   "attachments": {
    "52a90560-23e4-44af-90bc-f33aa8cc0357.png": {
     "image/png": "[encoded data removed]"
    }
   },
   "cell_type": "markdown",
   "id": "996130aa-b51f-48d4-967e-4f49a8bcb303",
   "metadata": {},
   "source": [
    "![스크린샷 2024-01-02 163313.png](attachment:52a90560-23e4-44af-90bc-f33aa8cc0357.png)"
   ]
  },
  {
   "cell_type": "markdown",
   "id": "425f261b-babd-4618-abf8-29e5f008f306",
   "metadata": {},
   "source": [
    "## 심사역 1명일 때의 기여율 계산 변수 셋팅"
   ]
  },
  {
   "cell_type": "code",
   "execution_count": 15,
   "id": "8f09028c-5bb4-4ef8-a00d-8ecb1c8633f3",
   "metadata": {},
   "outputs": [],
   "source": [
    "x = 0.4\n",
    "y = 0.2\n",
    "z = 0.4"
   ]
  },
  {
   "cell_type": "code",
   "execution_count": 23,
   "id": "9f3e9b7a-197d-48cf-bb94-705f7e2971ca",
   "metadata": {},
   "outputs": [],
   "source": [
    "prcs_vec = [x,y,z]"
   ]
  },
  {
   "cell_type": "code",
   "execution_count": 24,
   "id": "d7143d70-bacb-4498-b0bc-64bcd6509fd7",
   "metadata": {},
   "outputs": [],
   "source": [
    "# 심사역 1명이라면 개별 프로세스 내에서의 기여도 비율은 모두 100%\n",
    "k = 1\n",
    "p = 1\n",
    "j =  1"
   ]
  },
  {
   "cell_type": "code",
   "execution_count": 25,
   "id": "a36e660b-0a91-444f-ad9d-d309b095c951",
   "metadata": {},
   "outputs": [],
   "source": [
    "in_prcs_vec = [k, p, j]"
   ]
  },
  {
   "cell_type": "markdown",
   "id": "0f523637-c7c6-4675-a2fe-4640b7bf63b2",
   "metadata": {},
   "source": [
    "### 심사역 1명일 때의 기여율 계산 함수 (벡터 내적)"
   ]
  },
  {
   "cell_type": "code",
   "execution_count": 28,
   "id": "88793b1d-ba7e-4812-87bb-8d87b49162cd",
   "metadata": {},
   "outputs": [],
   "source": [
    "def calc_ctbr_ratio(prcs_vec, in_prcs_vec):\n",
    "    result = 0\n",
    "    \n",
    "    for x,y in zip(prcs_vec, in_prcs_vec):\n",
    "        result += x*y\n",
    "\n",
    "    return result"
   ]
  },
  {
   "cell_type": "code",
   "execution_count": 30,
   "id": "cf592412-a17e-4c3b-8345-16874bdbe01f",
   "metadata": {},
   "outputs": [
    {
     "data": {
      "text/plain": [
       "1.0"
      ]
     },
     "execution_count": 30,
     "metadata": {},
     "output_type": "execute_result"
    }
   ],
   "source": [
    "ratio = calc_ctbr_ratio(prcs_vec, in_prcs_vec)\n",
    "ratio"
   ]
  },
  {
   "cell_type": "markdown",
   "id": "3a8c536b-7862-4ced-9232-2518eab06547",
   "metadata": {},
   "source": [
    "----"
   ]
  },
  {
   "cell_type": "markdown",
   "id": "d132e542-c12b-48d4-a6ba-f0d86214dbea",
   "metadata": {},
   "source": [
    "## 심사역 N명일 때의 기여율 계산 (일반화)"
   ]
  },
  {
   "cell_type": "code",
   "execution_count": 84,
   "id": "b2b8af08-9ef5-4476-90c9-eb980815c62e",
   "metadata": {},
   "outputs": [
    {
     "name": "stdin",
     "output_type": "stream",
     "text": [
      "심사역 수를 입력하세요 5\n"
     ]
    },
    {
     "name": "stdout",
     "output_type": "stream",
     "text": [
      "기여율 계산 대상 심사역 수는 5명입니다.\n"
     ]
    }
   ],
   "source": [
    "n = int(input(\"심사역 수를 입력하세요\"))\n",
    "print(f\"기여율 계산 대상 심사역 수는 {n}명입니다.\")"
   ]
  },
  {
   "cell_type": "code",
   "execution_count": 24,
   "id": "39d2e867-5fae-47c5-91de-be4be77c58dd",
   "metadata": {},
   "outputs": [
    {
     "name": "stdin",
     "output_type": "stream",
     "text": [
      "발굴 프로세스 비중을 소숫점 둘째자리 까지 입력하세요 0.3\n",
      "심사 프로세스 비중을 소숫점 둘째자리 까지 입력하세요 0.3\n",
      "사후관리 프로세스 비중을 소숫점 둘째자리 까지 입력하세요 0.4\n"
     ]
    },
    {
     "name": "stdout",
     "output_type": "stream",
     "text": [
      "\n",
      "프로세스 별 비중의 총합이 1.0으로, 100%입니다. 프로세스 내 심사역별 기여율을 계산하세요\n"
     ]
    }
   ],
   "source": [
    "x = float(input(\"발굴 프로세스 비중을 소숫점 둘째자리 까지 입력하세요\"))\n",
    "y = float(input(\"심사 프로세스 비중을 소숫점 둘째자리 까지 입력하세요\"))\n",
    "z = float(input(\"사후관리 프로세스 비중을 소숫점 둘째자리 까지 입력하세요\"))\n",
    "\n",
    "if x+y+z != 1:\n",
    "    print(f\"\\n프로세스 별 비중의 총합이 {x+y+z}으로, 100%가 아닙니다. 다시 입력해주세요\")\n",
    "\n",
    "else:\n",
    "    print(f\"\\n프로세스 별 비중의 총합이 {x+y+z}으로, 100%입니다. 프로세스 내 심사역별 기여율을 계산하세요\")"
   ]
  },
  {
   "cell_type": "code",
   "execution_count": 91,
   "id": "f175d1cd-3975-478e-be20-2c0ef6a03316",
   "metadata": {},
   "outputs": [],
   "source": [
    "import pandas as pd\n",
    "import numpy as np\n",
    "\n",
    "ls = []\n",
    "\n",
    "prcs_ratio_vec = np.array([x,y,z])\n",
    "\n",
    "# n명의 심사역이 특정 프로세스 내(x or y or z)에서 모두 균등 기여 가정 \n",
    "# 각 프로세스 내 균등 분포 기여율 벡터 생성\n",
    "for i in range(0,n):\n",
    "    ls.append(1/n)\n",
    "\n",
    "ratio_in_prcs = pd.DataFrame(ls)\n",
    "\n",
    "ratio_in_prcs_matrix = pd.concat([ratio_in_prcs, ratio_in_prcs, ratio_in_prcs], axis = 1)\n",
    "\n",
    "players = pd.DataFrame([\"A\", \"B\", \"C\", \"D\", \"E\"])\n"
   ]
  },
  {
   "cell_type": "code",
   "execution_count": 113,
   "id": "679b60aa-9be3-40b8-868d-82cbcc61c54b",
   "metadata": {},
   "outputs": [],
   "source": [
    "player_ratio_matrix = pd.concat([players, ratio_in_prcs_matrix], axis=1)"
   ]
  },
  {
   "cell_type": "code",
   "execution_count": 136,
   "id": "0ecc96a8-f38e-4547-b43b-9196688866b4",
   "metadata": {},
   "outputs": [],
   "source": [
    "player_ratio_matrix.columns = [\"players\", \"r_dig\", \"r_scrn\", \"r_post\"]"
   ]
  },
  {
   "cell_type": "code",
   "execution_count": 169,
   "id": "6cdbd96d-988d-4dbb-bb76-518c59353232",
   "metadata": {},
   "outputs": [
    {
     "data": {
      "text/html": [
       "<div>\n",
       "<style scoped>\n",
       "    .dataframe tbody tr th:only-of-type {\n",
       "        vertical-align: middle;\n",
       "    }\n",
       "\n",
       "    .dataframe tbody tr th {\n",
       "        vertical-align: top;\n",
       "    }\n",
       "\n",
       "    .dataframe thead th {\n",
       "        text-align: right;\n",
       "    }\n",
       "</style>\n",
       "<table border=\"1\" class=\"dataframe\">\n",
       "  <thead>\n",
       "    <tr style=\"text-align: right;\">\n",
       "      <th></th>\n",
       "      <th>players</th>\n",
       "      <th>r_dig</th>\n",
       "      <th>r_scrn</th>\n",
       "      <th>r_post</th>\n",
       "    </tr>\n",
       "  </thead>\n",
       "  <tbody>\n",
       "    <tr>\n",
       "      <th>0</th>\n",
       "      <td>A</td>\n",
       "      <td>0.2</td>\n",
       "      <td>0.2</td>\n",
       "      <td>0.2</td>\n",
       "    </tr>\n",
       "    <tr>\n",
       "      <th>1</th>\n",
       "      <td>B</td>\n",
       "      <td>0.2</td>\n",
       "      <td>0.2</td>\n",
       "      <td>0.2</td>\n",
       "    </tr>\n",
       "    <tr>\n",
       "      <th>2</th>\n",
       "      <td>C</td>\n",
       "      <td>0.2</td>\n",
       "      <td>0.2</td>\n",
       "      <td>0.2</td>\n",
       "    </tr>\n",
       "    <tr>\n",
       "      <th>3</th>\n",
       "      <td>D</td>\n",
       "      <td>0.2</td>\n",
       "      <td>0.2</td>\n",
       "      <td>0.2</td>\n",
       "    </tr>\n",
       "    <tr>\n",
       "      <th>4</th>\n",
       "      <td>E</td>\n",
       "      <td>0.2</td>\n",
       "      <td>0.2</td>\n",
       "      <td>0.2</td>\n",
       "    </tr>\n",
       "  </tbody>\n",
       "</table>\n",
       "</div>"
      ],
      "text/plain": [
       "  players  r_dig  r_scrn  r_post\n",
       "0       A    0.2     0.2     0.2\n",
       "1       B    0.2     0.2     0.2\n",
       "2       C    0.2     0.2     0.2\n",
       "3       D    0.2     0.2     0.2\n",
       "4       E    0.2     0.2     0.2"
      ]
     },
     "execution_count": 169,
     "metadata": {},
     "output_type": "execute_result"
    }
   ],
   "source": [
    "player_ratio_matrix"
   ]
  },
  {
   "cell_type": "code",
   "execution_count": null,
   "id": "3fa902f7-849b-4fa6-b2da-7404a7579793",
   "metadata": {},
   "outputs": [],
   "source": [
    "# 프로세스별로 각 심사역 개인의 가중치 행렬이 나왔으므로, 사전 정의된 프로세스 벡터(1*3)를 곱해주자"
   ]
  },
  {
   "cell_type": "code",
   "execution_count": 170,
   "id": "ff833311-02f0-4948-b88f-42a22605ae5e",
   "metadata": {},
   "outputs": [
    {
     "data": {
      "text/plain": [
       "array([0.3, 0.3, 0.4])"
      ]
     },
     "execution_count": 170,
     "metadata": {},
     "output_type": "execute_result"
    }
   ],
   "source": [
    "prcs_ratio_vec"
   ]
  },
  {
   "cell_type": "code",
   "execution_count": 179,
   "id": "9150bf89-4132-409a-8818-32f7ff42254f",
   "metadata": {},
   "outputs": [],
   "source": [
    "# 각 심사역별 기여율 가중평균을 위한 벡터 내적\n",
    "\n",
    "a_ratio = [x*y for x,y in zip(prcs_ratio_vec, player_ratio_matrix.iloc[0, 1:])]\n",
    "b_ratio = [x*y for x,y in zip(prcs_ratio_vec, player_ratio_matrix.iloc[1, 1:])]\n",
    "c_ratio = [x*y for x,y in zip(prcs_ratio_vec, player_ratio_matrix.iloc[2, 1:])]\n",
    "d_ratio = [x*y for x,y in zip(prcs_ratio_vec, player_ratio_matrix.iloc[3, 1:])]\n",
    "e_ratio = [x*y for x,y in zip(prcs_ratio_vec, player_ratio_matrix.iloc[4, 1:])]"
   ]
  },
  {
   "cell_type": "code",
   "execution_count": 187,
   "id": "955268c2-e0a6-4980-b0f3-7cafa51cabfb",
   "metadata": {},
   "outputs": [
    {
     "data": {
      "text/plain": [
       "[0.06, 0.06, 0.08000000000000002]"
      ]
     },
     "execution_count": 187,
     "metadata": {},
     "output_type": "execute_result"
    }
   ],
   "source": [
    "a_ratio \n",
    "# 여기 0.08밑으로 안떨어지는 소숫점은 뭐여 ?"
   ]
  },
  {
   "cell_type": "code",
   "execution_count": 185,
   "id": "48ce782a-ad97-4927-b339-661351e354c8",
   "metadata": {},
   "outputs": [],
   "source": [
    "final_a_ratio = sum(a_ratio)\n",
    "final_b_ratio = sum(b_ratio)\n",
    "final_c_ratio = sum(c_ratio)\n",
    "final_d_ratio = sum(d_ratio)\n",
    "final_e_ratio = sum(e_ratio)"
   ]
  },
  {
   "cell_type": "markdown",
   "id": "143b15be-bca8-4e4e-83f3-8af453885776",
   "metadata": {},
   "source": [
    "사전에 수립한 공식에 의하면 위 모든 심사역별 최종 가중치 값은 1이 되어야 함\n",
    "\n",
    "그거 확인"
   ]
  },
  {
   "cell_type": "code",
   "execution_count": 188,
   "id": "64d022fb-cdfe-468f-8074-e0ca94da8751",
   "metadata": {},
   "outputs": [
    {
     "data": {
      "text/plain": [
       "1.0"
      ]
     },
     "execution_count": 188,
     "metadata": {},
     "output_type": "execute_result"
    }
   ],
   "source": [
    "if (final_a_ratio)"
   ]
  },
  {
   "cell_type": "code",
   "execution_count": null,
   "id": "838fbd9f-eb56-48a1-a0ca-d3220f72972e",
   "metadata": {},
   "outputs": [],
   "source": []
  }
 ],
 "metadata": {
  "kernelspec": {
   "display_name": "Python 3 (ipykernel)",
   "language": "python",
   "name": "python3"
  },
  "language_info": {
   "codemirror_mode": {
    "name": "ipython",
    "version": 3
   },
   "file_extension": ".py",
   "mimetype": "text/x-python",
   "name": "python",
   "nbconvert_exporter": "python",
   "pygments_lexer": "ipython3",
   "version": "3.12.0"
  }
 },
 "nbformat": 4,
 "nbformat_minor": 5
}
